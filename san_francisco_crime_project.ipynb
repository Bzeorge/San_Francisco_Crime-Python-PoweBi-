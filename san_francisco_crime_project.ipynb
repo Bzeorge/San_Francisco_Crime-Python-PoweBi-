{
 "cells": [
  {
   "cell_type": "code",
   "execution_count": 1,
   "metadata": {},
   "outputs": [],
   "source": [
    "# Import packages and load the dataset\n",
    "import pandas as pd\n",
    "\n",
    "df = pd.read_csv(\"W:\\Python\\Police_Department_Incident_Reports__2018_to_Present.csv\")"
   ]
  },
  {
   "cell_type": "code",
   "execution_count": null,
   "metadata": {},
   "outputs": [],
   "source": [
    "# Explore the dataset\n",
    "df.head()\n",
    "df.info()"
   ]
  },
  {
   "cell_type": "code",
   "execution_count": 3,
   "metadata": {},
   "outputs": [],
   "source": [
    "# Clean the dataset\n",
    "df_clean = df.dropna(subset=[\"Latitude\"])\n",
    "df_clean = df_clean.reset_index(drop=True)"
   ]
  },
  {
   "cell_type": "code",
   "execution_count": null,
   "metadata": {},
   "outputs": [],
   "source": [
    "# Select only wanted columns \n",
    "df_clean.columns\n",
    "df_clean = df_clean[['Incident Datetime',\n",
    "       'Incident Category', 'Latitude', 'Longitude','Incident Day of Week']]"
   ]
  },
  {
   "cell_type": "code",
   "execution_count": null,
   "metadata": {},
   "outputs": [],
   "source": [
    "# Create a new column formated as datetime object\n",
    "df_clean[\"New_Date\"] = pd.to_datetime(df_clean[\"Incident Datetime\"])\n",
    "# Subtract 6 hours from the new datetime\n",
    "df_clean[\"New_Date\"] = df_clean[\"New_Date\"] - pd.Timedelta(hours=6)\n",
    "# Create new day of the week column based on new datetime\n",
    "df_clean[\"Day_New\"] = df_clean[\"New_Date\"].dt.day_name()"
   ]
  },
  {
   "cell_type": "code",
   "execution_count": null,
   "metadata": {},
   "outputs": [],
   "source": [
    "# Save the dataset as csv file \n",
    "df_clean.to_csv(\"san_fran_crime_project_clean.csv\",index=False)"
   ]
  }
 ],
 "metadata": {
  "kernelspec": {
   "display_name": "Python 3",
   "language": "python",
   "name": "python3"
  },
  "language_info": {
   "codemirror_mode": {
    "name": "ipython",
    "version": 3
   },
   "file_extension": ".py",
   "mimetype": "text/x-python",
   "name": "python",
   "nbconvert_exporter": "python",
   "pygments_lexer": "ipython3",
   "version": "3.9.0"
  },
  "orig_nbformat": 4
 },
 "nbformat": 4,
 "nbformat_minor": 2
}
